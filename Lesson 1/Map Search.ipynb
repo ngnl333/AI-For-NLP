{
 "cells": [
  {
   "cell_type": "markdown",
   "metadata": {},
   "source": [
    "# 图搜索"
   ]
  },
  {
   "cell_type": "markdown",
   "metadata": {},
   "source": [
    "## 广度优先搜索"
   ]
  },
  {
   "cell_type": "markdown",
   "metadata": {},
   "source": [
    "![BFS1](https://github.com/ngnl333/AI-For-NLP/blob/master/Lesson%201/BFS1.png?raw=true)\n",
    "![BFS2](https://github.com/ngnl333/AI-For-NLP/blob/master/Lesson%201/BFS2.png?raw=true)\n",
    "![BFS3](https://github.com/ngnl333/AI-For-NLP/blob/master/Lesson%201/BFS3.png?raw=true)\n",
    "![BFS4](https://github.com/ngnl333/AI-For-NLP/blob/master/Lesson%201/BFS4.png?raw=true)"
   ]
  },
  {
   "cell_type": "markdown",
   "metadata": {},
   "source": [
    "### 不停的把顶点和候补顶点放入队列中\n",
    "\n",
    "每个节点都与邻近节点相连，如果表示类似于“你→Bob”这样的关系呢？\n",
    "\n",
    "好在你知道的一种结构让你能够表示这种关系，它就是**散列表**！\n",
    "\n",
    "记住，散列表让你能够将键映射到值。在这里，你要将节点映射到其所有邻居。\n",
    "\n",
    "表示这种映射关系的Python代码如下。"
   ]
  },
  {
   "cell_type": "code",
   "execution_count": 2,
   "metadata": {},
   "outputs": [],
   "source": [
    "BEIJING, CHANGCHUN, MULUMUQI, WUHAN, GUNAGHZOU, SHENZHEN, BANGKOK, SHANGHAI, NEWYORK = \"\"\"\n",
    "BEIJING CHANGCHUN MULUMUQI WUHAN GUANGZHOU SHENZHEN BANGKOK SHANGHAI NEWYORK\n",
    "\"\"\".split()\n",
    "connection = {\n",
    "    CHANGCHUN: [BEIJING],\n",
    "    MULUMUQI: [BEIJING], \n",
    "    BEIJING: [MULUMUQI, CHANGCHUN, WUHAN, SHENZHEN, NEWYORK],\n",
    "    NEWYORK: [BEIJING, SHANGHAI],\n",
    "    SHANGHAI: [NEWYORK, WUHAN],\n",
    "    WUHAN: [SHANGHAI, BEIJING, GUNAGHZOU],\n",
    "    GUNAGHZOU: [WUHAN, BANGKOK],\n",
    "    SHENZHEN: [WUHAN, BANGKOK],\n",
    "    BANGKOK: [SHENZHEN, GUNAGHZOU]\n",
    "}"
   ]
  },
  {
   "cell_type": "code",
   "execution_count": 6,
   "metadata": {},
   "outputs": [
    {
     "name": "stdout",
     "output_type": "stream",
     "text": [
      "standing on CHANGCHUN Looking forward ['BEIJING']\n",
      "standing on BEIJING Looking forward ['MULUMUQI', 'CHANGCHUN', 'WUHAN', 'SHENZHEN', 'NEWYORK']\n",
      "standing on MULUMUQI Looking forward ['BEIJING']\n",
      "standing on WUHAN Looking forward ['SHANGHAI', 'BEIJING', 'GUANGZHOU']\n",
      "standing on SHENZHEN Looking forward ['WUHAN', 'BANGKOK']\n",
      "standing on NEWYORK Looking forward ['BEIJING', 'SHANGHAI']\n"
     ]
    },
    {
     "data": {
      "text/plain": [
       "'NEWYORK'"
      ]
     },
     "execution_count": 6,
     "metadata": {},
     "output_type": "execute_result"
    }
   ],
   "source": [
    "def nagivator_bfs(start, destination, connection_graph):\n",
    "    pathes = [start]\n",
    "    seen = set()\n",
    "    \n",
    "    while pathes:\n",
    "        froniter = pathes.pop(0)\n",
    "        \n",
    "        if froniter in seen: continue\n",
    "            \n",
    "        successors = connection_graph[froniter]\n",
    "        print('standing on {} Looking forward {}'.format(froniter, successors))\n",
    "        if froniter==destination: return froniter\n",
    "        pathes = pathes + successors\n",
    "        \n",
    "        seen.add(froniter)\n",
    "nagivator_bfs('CHANGCHUN','NEWYORK',connection)"
   ]
  },
  {
   "cell_type": "markdown",
   "metadata": {},
   "source": [
    "## 深度优先搜索"
   ]
  },
  {
   "cell_type": "markdown",
   "metadata": {},
   "source": [
    "![DFS1](https://github.com/ngnl333/AI-For-NLP/blob/master/Lesson%201/DFS1.png?raw=true)\n",
    "![DFS2](https://github.com/ngnl333/AI-For-NLP/blob/master/Lesson%201/DFS2.png?raw=true)\n",
    "![DFS3](https://github.com/ngnl333/AI-For-NLP/blob/master/Lesson%201/DFS3.png?raw=true)\n",
    "![DFS4](https://github.com/ngnl333/AI-For-NLP/blob/master/Lesson%201/DFS4.png?raw=true)"
   ]
  }
 ],
 "metadata": {
  "kernelspec": {
   "display_name": "Python 3",
   "language": "python",
   "name": "python3"
  },
  "language_info": {
   "codemirror_mode": {
    "name": "ipython",
    "version": 3
   },
   "file_extension": ".py",
   "mimetype": "text/x-python",
   "name": "python",
   "nbconvert_exporter": "python",
   "pygments_lexer": "ipython3",
   "version": "3.7.1"
  }
 },
 "nbformat": 4,
 "nbformat_minor": 4
}
